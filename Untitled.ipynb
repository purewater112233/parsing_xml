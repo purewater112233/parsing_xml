{
 "cells": [
  {
   "cell_type": "code",
   "execution_count": 1,
   "metadata": {},
   "outputs": [
    {
     "name": "stdout",
     "output_type": "stream",
     "text": [
      "Empty DataFrame\n",
      "Columns: []\n",
      "Index: []\n"
     ]
    }
   ],
   "source": [
    "import io\n",
    "import pandas as pd\n",
    "import xml.etree.ElementTree as ET\n",
    "\n",
    "file_location = '../parsing_xml/Cluster_Ethernet_FixedRepeatedShortNames_Rev2_20190311.arxml'\n",
    "\n",
    "tree = ET.parse(file_location)\n",
    "root = tree.getroot()\n",
    "#\n",
    "# print(root.tag)\n",
    "\n",
    "def iter_docs(author):\n",
    "    author_attr = author.attrib\n",
    "    for doc in author.iter('AR-PACKAGE'):\n",
    "        doc_dict = author_attr.copy()\n",
    "        doc_dict.update(doc.attrib)\n",
    "        doc_dict['data'] = doc.text\n",
    "        yield doc_dict\n",
    "\n",
    "\n",
    "\n",
    "# command to show all columns\n",
    "pd.set_option('display.max_columns', 30)\n",
    "\n",
    "\n",
    "doc_df = pd.DataFrame(list(iter_docs(tree.getroot())))\n",
    "\n",
    "print(doc_df)"
   ]
  },
  {
   "cell_type": "code",
   "execution_count": 4,
   "metadata": {},
   "outputs": [
    {
     "ename": "SyntaxError",
     "evalue": "Missing parentheses in call to 'print'. Did you mean print(\"hello\")? (<ipython-input-4-2a0eaa89f43f>, line 1)",
     "output_type": "error",
     "traceback": [
      "\u001b[1;36m  File \u001b[1;32m\"<ipython-input-4-2a0eaa89f43f>\"\u001b[1;36m, line \u001b[1;32m1\u001b[0m\n\u001b[1;33m    print \"hello\"\u001b[0m\n\u001b[1;37m                ^\u001b[0m\n\u001b[1;31mSyntaxError\u001b[0m\u001b[1;31m:\u001b[0m Missing parentheses in call to 'print'. Did you mean print(\"hello\")?\n"
     ]
    }
   ],
   "source": []
  },
  {
   "cell_type": "code",
   "execution_count": null,
   "metadata": {},
   "outputs": [],
   "source": []
  }
 ],
 "metadata": {
  "kernelspec": {
   "display_name": "Python 3",
   "language": "python",
   "name": "python3"
  },
  "language_info": {
   "codemirror_mode": {
    "name": "ipython",
    "version": 3
   },
   "file_extension": ".py",
   "mimetype": "text/x-python",
   "name": "python",
   "nbconvert_exporter": "python",
   "pygments_lexer": "ipython3",
   "version": "3.7.2"
  }
 },
 "nbformat": 4,
 "nbformat_minor": 2
}
